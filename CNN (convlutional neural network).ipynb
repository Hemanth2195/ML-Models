{
 "cells": [
  {
   "cell_type": "code",
   "execution_count": 2,
   "metadata": {},
   "outputs": [],
   "source": [
    "from keras.models import Sequential\n",
    "from keras.layers import Conv2D,MaxPooling2D,Flatten,Dense\n",
    "from keras.preprocessing.image import ImageDataGenerator"
   ]
  },
  {
   "cell_type": "markdown",
   "metadata": {},
   "source": [
    "## here we add convolution layers "
   ]
  },
  {
   "cell_type": "code",
   "execution_count": 3,
   "metadata": {},
   "outputs": [
    {
     "name": "stdout",
     "output_type": "stream",
     "text": [
      "WARNING:tensorflow:From C:\\Users\\hemanth kumar\\anaconda3\\lib\\site-packages\\tensorflow\\python\\ops\\resource_variable_ops.py:435: colocate_with (from tensorflow.python.framework.ops) is deprecated and will be removed in a future version.\n",
      "Instructions for updating:\n",
      "Colocations handled automatically by placer.\n"
     ]
    }
   ],
   "source": [
    "classifier=Sequential()\n",
    "classifier.add(Conv2D(32,(3,3),input_shape=(64,64,3),activation='relu'))\n",
    "## filters- no.of feture detecters(filters)  <-- here the filter is of (3*3) dim and there are 64 feature detectors\n",
    "## kerenel_size- size of the filter eg..,(2*2)\n",
    "## input_shape- 64*64 is the resolution of the image and 3-RGB\n",
    "\n",
    "classifier.add(MaxPooling2D(pool_size=(2,2))) ## the reduced feture map polling is done to reduce the no.of nodes after the \n",
    "# flattenig step"
   ]
  },
  {
   "cell_type": "code",
   "execution_count": 4,
   "metadata": {},
   "outputs": [],
   "source": [
    "## adding extra convelutional layer for improving the accuracy this is similar to adding dense layer\n",
    "classifier.add(Conv2D(32,(3,3),activation='relu'))\n",
    "classifier.add(MaxPooling2D(pool_size=(2,2)))\n",
    "\n",
    "classifier.add(Conv2D(64,(3,3),activation='relu'))\n",
    "classifier.add(MaxPooling2D(pool_size=(2,2))) "
   ]
  },
  {
   "cell_type": "code",
   "execution_count": 5,
   "metadata": {},
   "outputs": [],
   "source": [
    "classifier.add(Flatten())\n",
    "## pooling is converting all our fetured maps to a vector(it is very huge)\n",
    "## the above 3 steps give us vector which is analogus to the normal matrix-X as we can see each feture denotes each feture in a \n",
    "# neural network, and also here we are doing the same to get these features by appling diffent feture filters."
   ]
  },
  {
   "cell_type": "code",
   "execution_count": 6,
   "metadata": {},
   "outputs": [
    {
     "name": "stderr",
     "output_type": "stream",
     "text": [
      "C:\\Users\\hemanth kumar\\anaconda3\\lib\\site-packages\\ipykernel_launcher.py:1: UserWarning: Update your `Dense` call to the Keras 2 API: `Dense(activation=\"relu\", units=128)`\n",
      "  \"\"\"Entry point for launching an IPython kernel.\n"
     ]
    }
   ],
   "source": [
    "classifier.add(Dense(output_dim=128,activation='relu')) ## input_dim is the dimention of the vector after flattenig, there are \n",
    "# so many features so we put the hidden layer as our choice as 128\n",
    "\n",
    "classifier.add(Dense(units=1,activation='sigmoid')) ## it is binary outcome(i.e.., cat or dog so output_dim=1 only)"
   ]
  },
  {
   "cell_type": "code",
   "execution_count": 7,
   "metadata": {},
   "outputs": [],
   "source": [
    "classifier.compile(optimizer='adam',loss='binary_crossentropy',metrics=['accuracy'])"
   ]
  },
  {
   "cell_type": "markdown",
   "metadata": {},
   "source": [
    "## image data generator - to randomly give some mutations to the input image(input data) so that the algorithm doesn't overfit. the code for this is available in the keras doccumentation."
   ]
  },
  {
   "cell_type": "code",
   "execution_count": 8,
   "metadata": {},
   "outputs": [
    {
     "name": "stdout",
     "output_type": "stream",
     "text": [
      "Found 800 images belonging to 2 classes.\n",
      "Found 200 images belonging to 2 classes.\n"
     ]
    }
   ],
   "source": [
    "train_datagen=ImageDataGenerator(rescale=1./255,shear_range=0.2,zoom_range=0.2,horizontal_flip=True) ## here we added the \n",
    "# mutations that we are going to add for the image for the training set\n",
    "test_datagen=ImageDataGenerator(rescale=1./255) ## here we on the test set we only need rescaling.\n",
    "\n",
    "## here we are adding the actual data.\n",
    "training_set = train_datagen.flow_from_directory('C:\\\\Users\\\\hemanth kumar\\\\Desktop\\\\CNN DATA\\\\train',\n",
    "                                                 target_size=(64,64),batch_size=32,class_mode='binary')\n",
    "\n",
    "\n",
    "test_set = test_datagen.flow_from_directory('C:\\\\Users\\\\hemanth kumar\\\\Desktop\\\\CNN DATA\\\\test',\n",
    "                                            target_size=(64,64),batch_size=32,class_mode='binary')"
   ]
  },
  {
   "cell_type": "code",
   "execution_count": 9,
   "metadata": {},
   "outputs": [
    {
     "name": "stdout",
     "output_type": "stream",
     "text": [
      "WARNING:tensorflow:From C:\\Users\\hemanth kumar\\anaconda3\\lib\\site-packages\\tensorflow\\python\\ops\\math_ops.py:3066: to_int32 (from tensorflow.python.ops.math_ops) is deprecated and will be removed in a future version.\n",
      "Instructions for updating:\n",
      "Use tf.cast instead.\n"
     ]
    },
    {
     "name": "stderr",
     "output_type": "stream",
     "text": [
      "C:\\Users\\hemanth kumar\\anaconda3\\lib\\site-packages\\ipykernel_launcher.py:1: UserWarning: The semantics of the Keras 2 argument `steps_per_epoch` is not the same as the Keras 1 argument `samples_per_epoch`. `steps_per_epoch` is the number of batches to draw from the generator at each epoch. Basically steps_per_epoch = samples_per_epoch/batch_size. Similarly `nb_val_samples`->`validation_steps` and `val_samples`->`steps` arguments have changed. Update your method calls accordingly.\n",
      "  \"\"\"Entry point for launching an IPython kernel.\n",
      "C:\\Users\\hemanth kumar\\anaconda3\\lib\\site-packages\\ipykernel_launcher.py:1: UserWarning: Update your `fit_generator` call to the Keras 2 API: `fit_generator(<keras.pre..., validation_data=<keras.pre..., steps_per_epoch=25, epochs=10, validation_steps=200)`\n",
      "  \"\"\"Entry point for launching an IPython kernel.\n"
     ]
    },
    {
     "name": "stdout",
     "output_type": "stream",
     "text": [
      "Epoch 1/10\n",
      "25/25 [==============================] - 19s 761ms/step - loss: 0.6973 - accuracy: 0.5312 - val_loss: 0.6908 - val_accuracy: 0.5051\n",
      "Epoch 2/10\n",
      "25/25 [==============================] - 18s 715ms/step - loss: 0.6908 - accuracy: 0.5163 - val_loss: 0.6810 - val_accuracy: 0.5200\n",
      "Epoch 3/10\n",
      "25/25 [==============================] - 18s 716ms/step - loss: 0.6955 - accuracy: 0.5362 - val_loss: 0.6912 - val_accuracy: 0.5449\n",
      "Epoch 4/10\n",
      "25/25 [==============================] - 18s 732ms/step - loss: 0.6835 - accuracy: 0.5562 - val_loss: 0.6671 - val_accuracy: 0.6289\n",
      "Epoch 5/10\n",
      "25/25 [==============================] - 18s 716ms/step - loss: 0.6725 - accuracy: 0.5838 - val_loss: 0.6370 - val_accuracy: 0.6608\n",
      "Epoch 6/10\n",
      "25/25 [==============================] - 18s 730ms/step - loss: 0.6571 - accuracy: 0.6062 - val_loss: 0.6042 - val_accuracy: 0.7155\n",
      "Epoch 7/10\n",
      "25/25 [==============================] - 19s 756ms/step - loss: 0.6376 - accuracy: 0.6425 - val_loss: 0.5866 - val_accuracy: 0.6858\n",
      "Epoch 8/10\n",
      "25/25 [==============================] - 18s 739ms/step - loss: 0.6330 - accuracy: 0.6475 - val_loss: 0.5696 - val_accuracy: 0.6505\n",
      "Epoch 9/10\n",
      "25/25 [==============================] - 18s 725ms/step - loss: 0.5880 - accuracy: 0.6988 - val_loss: 0.6377 - val_accuracy: 0.6189\n",
      "Epoch 10/10\n",
      "25/25 [==============================] - 18s 722ms/step - loss: 0.5761 - accuracy: 0.7013 - val_loss: 0.4813 - val_accuracy: 0.6955\n"
     ]
    },
    {
     "data": {
      "text/plain": [
       "<keras.callbacks.callbacks.History at 0x2454a73e288>"
      ]
     },
     "execution_count": 9,
     "metadata": {},
     "output_type": "execute_result"
    }
   ],
   "source": [
    "classifier.fit_generator(training_set,samples_per_epoch=800,nb_epoch=10,validation_data=test_set,nb_val_samples=200)\n",
    "## samples_per_epoch=no.of exaples we have in our trainig set\n",
    "## nb_val_samples=no.of examples in test set"
   ]
  },
  {
   "cell_type": "code",
   "execution_count": 15,
   "metadata": {},
   "outputs": [
    {
     "name": "stdout",
     "output_type": "stream",
     "text": [
      "cat\n"
     ]
    }
   ],
   "source": [
    "import numpy as np\n",
    "from keras.preprocessing import image\n",
    "test_image=image.load_img('C:\\\\Users\\\\hemanth kumar\\\\Desktop\\\\dog vs cat1.jpg',target_size=(64,64))\n",
    "test_image=image.img_to_array(test_image)\n",
    "test_image=np.expand_dims(test_image,axis=0)\n",
    "result=classifier.predict(test_image)\n",
    "training_set.class_indices\n",
    "\n",
    "if result[0][0]==0:\n",
    "    prediction='dog'\n",
    "else:\n",
    "    prediction='cat'\n",
    "    \n",
    "print(prediction)"
   ]
  },
  {
   "cell_type": "code",
   "execution_count": 12,
   "metadata": {},
   "outputs": [
    {
     "name": "stdout",
     "output_type": "stream",
     "text": [
      "Model: \"sequential_1\"\n",
      "_________________________________________________________________\n",
      "Layer (type)                 Output Shape              Param #   \n",
      "=================================================================\n",
      "conv2d_1 (Conv2D)            (None, 62, 62, 32)        896       \n",
      "_________________________________________________________________\n",
      "max_pooling2d_1 (MaxPooling2 (None, 31, 31, 32)        0         \n",
      "_________________________________________________________________\n",
      "conv2d_2 (Conv2D)            (None, 29, 29, 32)        9248      \n",
      "_________________________________________________________________\n",
      "max_pooling2d_2 (MaxPooling2 (None, 14, 14, 32)        0         \n",
      "_________________________________________________________________\n",
      "conv2d_3 (Conv2D)            (None, 12, 12, 64)        18496     \n",
      "_________________________________________________________________\n",
      "max_pooling2d_3 (MaxPooling2 (None, 6, 6, 64)          0         \n",
      "_________________________________________________________________\n",
      "flatten_1 (Flatten)          (None, 2304)              0         \n",
      "_________________________________________________________________\n",
      "dense_1 (Dense)              (None, 128)               295040    \n",
      "_________________________________________________________________\n",
      "dense_2 (Dense)              (None, 1)                 129       \n",
      "=================================================================\n",
      "Total params: 323,809\n",
      "Trainable params: 323,809\n",
      "Non-trainable params: 0\n",
      "_________________________________________________________________\n"
     ]
    }
   ],
   "source": [
    "classifier.summary()"
   ]
  },
  {
   "cell_type": "markdown",
   "metadata": {},
   "source": [
    "## wrong predictions"
   ]
  },
  {
   "cell_type": "code",
   "execution_count": null,
   "metadata": {},
   "outputs": [],
   "source": []
  }
 ],
 "metadata": {
  "kernelspec": {
   "display_name": "Python 3",
   "language": "python",
   "name": "python3"
  },
  "language_info": {
   "codemirror_mode": {
    "name": "ipython",
    "version": 3
   },
   "file_extension": ".py",
   "mimetype": "text/x-python",
   "name": "python",
   "nbconvert_exporter": "python",
   "pygments_lexer": "ipython3",
   "version": "3.7.6"
  },
  "varInspector": {
   "cols": {
    "lenName": 16,
    "lenType": 16,
    "lenVar": 40
   },
   "kernels_config": {
    "python": {
     "delete_cmd_postfix": "",
     "delete_cmd_prefix": "del ",
     "library": "var_list.py",
     "varRefreshCmd": "print(var_dic_list())"
    },
    "r": {
     "delete_cmd_postfix": ") ",
     "delete_cmd_prefix": "rm(",
     "library": "var_list.r",
     "varRefreshCmd": "cat(var_dic_list()) "
    }
   },
   "types_to_exclude": [
    "module",
    "function",
    "builtin_function_or_method",
    "instance",
    "_Feature"
   ],
   "window_display": false
  }
 },
 "nbformat": 4,
 "nbformat_minor": 4
}
