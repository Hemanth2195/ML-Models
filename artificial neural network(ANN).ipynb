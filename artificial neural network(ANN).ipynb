{
 "cells": [
  {
   "cell_type": "markdown",
   "metadata": {},
   "source": [
    "## aim:- predicting which customers are leaving the bank"
   ]
  },
  {
   "cell_type": "markdown",
   "metadata": {},
   "source": [
    "## for reference for keras follow youtube video(https://www.youtube.com/watch?v=qFJeN9V1ZsI) latest one"
   ]
  },
  {
   "cell_type": "markdown",
   "metadata": {},
   "source": [
    "## note:- this OneHotEncoding is not working i have done a new method see it do something to clear the concept."
   ]
  },
  {
   "cell_type": "code",
   "execution_count": 2,
   "metadata": {},
   "outputs": [],
   "source": [
    "import numpy as np\n",
    "import pandas as pd \n",
    "import matplotlib.pyplot as plt"
   ]
  },
  {
   "cell_type": "code",
   "execution_count": 3,
   "metadata": {},
   "outputs": [],
   "source": [
    "df=pd.read_csv('C:\\\\Users\\\\hemanth kumar\\\\Desktop\\\\A-Z data sets\\\\P14-Part8-Deep-Learning (2)\\\\P14-Part8-Deep-Learning\\\\Section 35 - Artificial Neural Networks (ANN)\\\\Python\\\\Churn_Modelling.csv')"
   ]
  },
  {
   "cell_type": "code",
   "execution_count": 4,
   "metadata": {},
   "outputs": [
    {
     "data": {
      "text/html": [
       "<div>\n",
       "<style scoped>\n",
       "    .dataframe tbody tr th:only-of-type {\n",
       "        vertical-align: middle;\n",
       "    }\n",
       "\n",
       "    .dataframe tbody tr th {\n",
       "        vertical-align: top;\n",
       "    }\n",
       "\n",
       "    .dataframe thead th {\n",
       "        text-align: right;\n",
       "    }\n",
       "</style>\n",
       "<table border=\"1\" class=\"dataframe\">\n",
       "  <thead>\n",
       "    <tr style=\"text-align: right;\">\n",
       "      <th></th>\n",
       "      <th>RowNumber</th>\n",
       "      <th>CustomerId</th>\n",
       "      <th>Surname</th>\n",
       "      <th>CreditScore</th>\n",
       "      <th>Geography</th>\n",
       "      <th>Gender</th>\n",
       "      <th>Age</th>\n",
       "      <th>Tenure</th>\n",
       "      <th>Balance</th>\n",
       "      <th>NumOfProducts</th>\n",
       "      <th>HasCrCard</th>\n",
       "      <th>IsActiveMember</th>\n",
       "      <th>EstimatedSalary</th>\n",
       "      <th>Exited</th>\n",
       "    </tr>\n",
       "  </thead>\n",
       "  <tbody>\n",
       "    <tr>\n",
       "      <th>9372</th>\n",
       "      <td>9373</td>\n",
       "      <td>15775826</td>\n",
       "      <td>Iadanza</td>\n",
       "      <td>677</td>\n",
       "      <td>France</td>\n",
       "      <td>Male</td>\n",
       "      <td>30</td>\n",
       "      <td>1</td>\n",
       "      <td>78133.15</td>\n",
       "      <td>1</td>\n",
       "      <td>0</td>\n",
       "      <td>1</td>\n",
       "      <td>174225.88</td>\n",
       "      <td>0</td>\n",
       "    </tr>\n",
       "    <tr>\n",
       "      <th>8842</th>\n",
       "      <td>8843</td>\n",
       "      <td>15610226</td>\n",
       "      <td>Fenton</td>\n",
       "      <td>614</td>\n",
       "      <td>France</td>\n",
       "      <td>Female</td>\n",
       "      <td>27</td>\n",
       "      <td>9</td>\n",
       "      <td>106414.57</td>\n",
       "      <td>2</td>\n",
       "      <td>0</td>\n",
       "      <td>0</td>\n",
       "      <td>77500.81</td>\n",
       "      <td>0</td>\n",
       "    </tr>\n",
       "    <tr>\n",
       "      <th>9412</th>\n",
       "      <td>9413</td>\n",
       "      <td>15724648</td>\n",
       "      <td>Chikezie</td>\n",
       "      <td>725</td>\n",
       "      <td>France</td>\n",
       "      <td>Male</td>\n",
       "      <td>26</td>\n",
       "      <td>6</td>\n",
       "      <td>98684.15</td>\n",
       "      <td>1</td>\n",
       "      <td>0</td>\n",
       "      <td>0</td>\n",
       "      <td>133720.57</td>\n",
       "      <td>0</td>\n",
       "    </tr>\n",
       "    <tr>\n",
       "      <th>8902</th>\n",
       "      <td>8903</td>\n",
       "      <td>15671973</td>\n",
       "      <td>Chukwuemeka</td>\n",
       "      <td>467</td>\n",
       "      <td>Spain</td>\n",
       "      <td>Male</td>\n",
       "      <td>39</td>\n",
       "      <td>5</td>\n",
       "      <td>0.00</td>\n",
       "      <td>2</td>\n",
       "      <td>1</td>\n",
       "      <td>1</td>\n",
       "      <td>7415.96</td>\n",
       "      <td>0</td>\n",
       "    </tr>\n",
       "    <tr>\n",
       "      <th>9687</th>\n",
       "      <td>9688</td>\n",
       "      <td>15771997</td>\n",
       "      <td>Bryant</td>\n",
       "      <td>791</td>\n",
       "      <td>France</td>\n",
       "      <td>Female</td>\n",
       "      <td>31</td>\n",
       "      <td>10</td>\n",
       "      <td>75499.24</td>\n",
       "      <td>1</td>\n",
       "      <td>1</td>\n",
       "      <td>0</td>\n",
       "      <td>22184.14</td>\n",
       "      <td>0</td>\n",
       "    </tr>\n",
       "  </tbody>\n",
       "</table>\n",
       "</div>"
      ],
      "text/plain": [
       "      RowNumber  CustomerId      Surname  CreditScore Geography  Gender  Age  \\\n",
       "9372       9373    15775826      Iadanza          677    France    Male   30   \n",
       "8842       8843    15610226       Fenton          614    France  Female   27   \n",
       "9412       9413    15724648     Chikezie          725    France    Male   26   \n",
       "8902       8903    15671973  Chukwuemeka          467     Spain    Male   39   \n",
       "9687       9688    15771997       Bryant          791    France  Female   31   \n",
       "\n",
       "      Tenure    Balance  NumOfProducts  HasCrCard  IsActiveMember  \\\n",
       "9372       1   78133.15              1          0               1   \n",
       "8842       9  106414.57              2          0               0   \n",
       "9412       6   98684.15              1          0               0   \n",
       "8902       5       0.00              2          1               1   \n",
       "9687      10   75499.24              1          1               0   \n",
       "\n",
       "      EstimatedSalary  Exited  \n",
       "9372        174225.88       0  \n",
       "8842         77500.81       0  \n",
       "9412        133720.57       0  \n",
       "8902          7415.96       0  \n",
       "9687         22184.14       0  "
      ]
     },
     "execution_count": 4,
     "metadata": {},
     "output_type": "execute_result"
    }
   ],
   "source": [
    "df.sample(5)"
   ]
  },
  {
   "cell_type": "markdown",
   "metadata": {},
   "source": [
    "## we have installed these 3 libraries before implementing : Theno, Tensorflow, keras\n",
    "## theano is for fast computing based on numpy lib, and it runs in both cpu and gpu. this feature is very usefull when runnig parallel computaion during forward and back propegation for deep learning. Tensorflow is also similar to Theano which is also for fast computaions.\n",
    "## keras library is based on above two."
   ]
  },
  {
   "cell_type": "code",
   "execution_count": 5,
   "metadata": {},
   "outputs": [
    {
     "data": {
      "text/plain": [
       "array([619, 'France', 'Female', 42, 2, 0.0, 1, 1, 1, 101348.88],\n",
       "      dtype=object)"
      ]
     },
     "execution_count": 5,
     "metadata": {},
     "output_type": "execute_result"
    }
   ],
   "source": [
    "x=df.iloc[:,3:13].values\n",
    "y=df.iloc[:,[-1]].values\n",
    "x[0]"
   ]
  },
  {
   "cell_type": "code",
   "execution_count": 6,
   "metadata": {},
   "outputs": [],
   "source": [
    "from sklearn.preprocessing import OneHotEncoder,LabelEncoder\n",
    "le=LabelEncoder()\n",
    "x[:,2]=le.fit_transform(x[:,2])\n",
    "\n",
    "from sklearn.compose import ColumnTransformer\n",
    "ct=ColumnTransformer(transformers=[('ohe',OneHotEncoder(),[1])],remainder='passthrough')\n",
    "\n",
    "x=ct.fit_transform(x)\n",
    "x=x[:,1:]"
   ]
  },
  {
   "cell_type": "code",
   "execution_count": 8,
   "metadata": {},
   "outputs": [
    {
     "data": {
      "text/plain": [
       "array([0.0, 1.0, 608, 0, 41, 1, 83807.86, 1, 0, 1, 112542.58],\n",
       "      dtype=object)"
      ]
     },
     "execution_count": 8,
     "metadata": {},
     "output_type": "execute_result"
    }
   ],
   "source": [
    "x[1,:]"
   ]
  },
  {
   "cell_type": "markdown",
   "metadata": {},
   "source": [
    "## code for one hot encoding\n",
    "\n",
    "## note:- the above code is completely new for me."
   ]
  },
  {
   "cell_type": "code",
   "execution_count": 70,
   "metadata": {},
   "outputs": [
    {
     "data": {
      "text/plain": [
       "(10000, 11)"
      ]
     },
     "execution_count": 70,
     "metadata": {},
     "output_type": "execute_result"
    }
   ],
   "source": [
    "x.shape"
   ]
  },
  {
   "cell_type": "code",
   "execution_count": 71,
   "metadata": {},
   "outputs": [],
   "source": [
    "from sklearn.model_selection import train_test_split\n",
    "x_train,x_test,y_train,y_test=train_test_split(x,y,train_size=0.8,random_state=0) "
   ]
  },
  {
   "cell_type": "code",
   "execution_count": 72,
   "metadata": {},
   "outputs": [],
   "source": [
    "from sklearn.preprocessing import StandardScaler\n",
    "ss=StandardScaler()\n",
    "x_train=ss.fit_transform(x_train)\n",
    "x_test=ss.fit_transform(x_test)"
   ]
  },
  {
   "cell_type": "code",
   "execution_count": 73,
   "metadata": {},
   "outputs": [],
   "source": [
    "import keras  ## keras build the neural network based on tensorflow \n",
    "from keras import Sequential   ## sequential is used for initializing the neural network\n",
    "from keras.layers import Dense ## Dense is used for build the layers of ANN"
   ]
  },
  {
   "cell_type": "code",
   "execution_count": 90,
   "metadata": {},
   "outputs": [
    {
     "name": "stdout",
     "output_type": "stream",
     "text": [
      "WARNING:tensorflow:From C:\\Users\\hemanth kumar\\anaconda3\\lib\\site-packages\\tensorflow\\python\\ops\\resource_variable_ops.py:435: colocate_with (from tensorflow.python.framework.ops) is deprecated and will be removed in a future version.\n",
      "Instructions for updating:\n",
      "Colocations handled automatically by placer.\n"
     ]
    },
    {
     "name": "stderr",
     "output_type": "stream",
     "text": [
      "C:\\Users\\hemanth kumar\\anaconda3\\lib\\site-packages\\ipykernel_launcher.py:2: UserWarning: Update your `Dense` call to the Keras 2 API: `Dense(input_dim=11, activation=\"relu\", units=6, kernel_initializer=\"uniform\")`\n",
      "  \n",
      "C:\\Users\\hemanth kumar\\anaconda3\\lib\\site-packages\\ipykernel_launcher.py:3: UserWarning: Update your `Dense` call to the Keras 2 API: `Dense(activation=\"relu\", units=6, kernel_initializer=\"uniform\")`\n",
      "  This is separate from the ipykernel package so we can avoid doing imports until\n",
      "C:\\Users\\hemanth kumar\\anaconda3\\lib\\site-packages\\ipykernel_launcher.py:4: UserWarning: Update your `Dense` call to the Keras 2 API: `Dense(activation=\"sigmoid\", units=1, kernel_initializer=\"uniform\")`\n",
      "  after removing the cwd from sys.path.\n"
     ]
    }
   ],
   "source": [
    "## initializing the neural network\n",
    "classifier = Sequential([Dense(input_dim=11,output_dim=6,init='uniform',activation='relu'),\n",
    "                        Dense(output_dim=6,init='uniform',activation='relu'),\n",
    "                        Dense(output_dim=1,init='uniform',activation='sigmoid')])\n",
    "## this step is adding the first hidden layer we first just form the skeleton of the neural network(this is the step)\n",
    "## input_dim is the no.of nodes in the input layer(since we have 11 features so it is 11)\n",
    "## output_dim we have choosen 6 this is the first hidden layer nodes we choosen it because (11+1)/2=6, but in actual we have to\n",
    "#do it by parameter tuning\n",
    "## note:- for the final layer we have used sigmoid function, but if our y(dependent variable has more than one feature we need \n",
    "# to use softmax as the activation function)"
   ]
  },
  {
   "cell_type": "markdown",
   "metadata": {},
   "source": [
    "## note:- the above syntax format i used is from the youtube video(https://www.youtube.com/watch?v=qFJeN9V1ZsI)"
   ]
  },
  {
   "cell_type": "markdown",
   "metadata": {},
   "source": [
    "## adding the layers\n",
    "## we are using RECTIFIER ACTIVATION functon for the hidden layers as in our andrew ng we use the SIGMOID FUNCTION as g(z) recap it. and here we are using the rectfier activation function for the hidden layers and sigmod activation function for the output layer."
   ]
  },
  {
   "cell_type": "markdown",
   "metadata": {},
   "source": [
    "## note:- for reference of visualization refer andrew ng notes"
   ]
  },
  {
   "cell_type": "code",
   "execution_count": 91,
   "metadata": {},
   "outputs": [
    {
     "name": "stdout",
     "output_type": "stream",
     "text": [
      "Model: \"sequential_1\"\n",
      "_________________________________________________________________\n",
      "Layer (type)                 Output Shape              Param #   \n",
      "=================================================================\n",
      "dense_11 (Dense)             (None, 6)                 72        \n",
      "_________________________________________________________________\n",
      "dense_12 (Dense)             (None, 6)                 42        \n",
      "_________________________________________________________________\n",
      "dense_13 (Dense)             (None, 1)                 7         \n",
      "=================================================================\n",
      "Total params: 121\n",
      "Trainable params: 121\n",
      "Non-trainable params: 0\n",
      "_________________________________________________________________\n"
     ]
    }
   ],
   "source": [
    "classifier.summary()"
   ]
  },
  {
   "cell_type": "code",
   "execution_count": 92,
   "metadata": {},
   "outputs": [],
   "source": [
    "classifier.compile(optimizer='adam',loss='binary_crossentropy',metrics=['accuracy'])\n",
    "## optimizer:- it is the algorithm we use to do the optimization of our theta values(weights) here we are using stichiotic\n",
    "# gradient decent by 'adam'\n",
    "## loss function == cost function(andrew ng) \n",
    "## metrics:- the criterion we choose to evaluate our model performance"
   ]
  },
  {
   "cell_type": "code",
   "execution_count": 93,
   "metadata": {},
   "outputs": [
    {
     "name": "stdout",
     "output_type": "stream",
     "text": [
      "WARNING:tensorflow:From C:\\Users\\hemanth kumar\\anaconda3\\lib\\site-packages\\tensorflow\\python\\ops\\math_ops.py:3066: to_int32 (from tensorflow.python.ops.math_ops) is deprecated and will be removed in a future version.\n",
      "Instructions for updating:\n",
      "Use tf.cast instead.\n",
      "Epoch 1/100\n",
      "8000/8000 [==============================] - 1s 102us/step - loss: 0.4831 - accuracy: 0.7961\n",
      "Epoch 2/100\n",
      "8000/8000 [==============================] - 1s 70us/step - loss: 0.4271 - accuracy: 0.7960\n",
      "Epoch 3/100\n",
      "8000/8000 [==============================] - 1s 75us/step - loss: 0.4218 - accuracy: 0.7960\n",
      "Epoch 4/100\n",
      "8000/8000 [==============================] - 1s 71us/step - loss: 0.4181 - accuracy: 0.8189\n",
      "Epoch 5/100\n",
      "8000/8000 [==============================] - 1s 68us/step - loss: 0.4155 - accuracy: 0.8270\n",
      "Epoch 6/100\n",
      "8000/8000 [==============================] - 1s 71us/step - loss: 0.4139 - accuracy: 0.8306\n",
      "Epoch 7/100\n",
      "8000/8000 [==============================] - 1s 70us/step - loss: 0.4128 - accuracy: 0.8304\n",
      "Epoch 8/100\n",
      "8000/8000 [==============================] - 1s 77us/step - loss: 0.4118 - accuracy: 0.8321\n",
      "Epoch 9/100\n",
      "8000/8000 [==============================] - 1s 71us/step - loss: 0.4106 - accuracy: 0.8338\n",
      "Epoch 10/100\n",
      "8000/8000 [==============================] - 1s 70us/step - loss: 0.4095 - accuracy: 0.8332\n",
      "Epoch 11/100\n",
      "8000/8000 [==============================] - 1s 72us/step - loss: 0.4091 - accuracy: 0.8339\n",
      "Epoch 12/100\n",
      "8000/8000 [==============================] - 1s 70us/step - loss: 0.4082 - accuracy: 0.8349\n",
      "Epoch 13/100\n",
      "8000/8000 [==============================] - 1s 70us/step - loss: 0.4064 - accuracy: 0.8353\n",
      "Epoch 14/100\n",
      "8000/8000 [==============================] - 1s 66us/step - loss: 0.4050 - accuracy: 0.8363\n",
      "Epoch 15/100\n",
      "8000/8000 [==============================] - 1s 66us/step - loss: 0.4035 - accuracy: 0.8351\n",
      "Epoch 16/100\n",
      "8000/8000 [==============================] - 1s 66us/step - loss: 0.4024 - accuracy: 0.8347\n",
      "Epoch 17/100\n",
      "8000/8000 [==============================] - 1s 74us/step - loss: 0.4013 - accuracy: 0.8356\n",
      "Epoch 18/100\n",
      "8000/8000 [==============================] - 1s 71us/step - loss: 0.4007 - accuracy: 0.8350\n",
      "Epoch 19/100\n",
      "8000/8000 [==============================] - 1s 68us/step - loss: 0.3999 - accuracy: 0.8346\n",
      "Epoch 20/100\n",
      "8000/8000 [==============================] - 1s 68us/step - loss: 0.3987 - accuracy: 0.8360\n",
      "Epoch 21/100\n",
      "8000/8000 [==============================] - 1s 72us/step - loss: 0.3981 - accuracy: 0.8347\n",
      "Epoch 22/100\n",
      "8000/8000 [==============================] - 1s 75us/step - loss: 0.3983 - accuracy: 0.8353\n",
      "Epoch 23/100\n",
      "8000/8000 [==============================] - 1s 72us/step - loss: 0.3980 - accuracy: 0.8336\n",
      "Epoch 24/100\n",
      "8000/8000 [==============================] - 1s 70us/step - loss: 0.3972 - accuracy: 0.8364\n",
      "Epoch 25/100\n",
      "8000/8000 [==============================] - 1s 70us/step - loss: 0.3970 - accuracy: 0.8344\n",
      "Epoch 26/100\n",
      "8000/8000 [==============================] - 1s 69us/step - loss: 0.3964 - accuracy: 0.8354\n",
      "Epoch 27/100\n",
      "8000/8000 [==============================] - 1s 74us/step - loss: 0.3965 - accuracy: 0.8353\n",
      "Epoch 28/100\n",
      "8000/8000 [==============================] - 1s 70us/step - loss: 0.3965 - accuracy: 0.8345\n",
      "Epoch 29/100\n",
      "8000/8000 [==============================] - 1s 69us/step - loss: 0.3966 - accuracy: 0.8357\n",
      "Epoch 30/100\n",
      "8000/8000 [==============================] - 1s 68us/step - loss: 0.3960 - accuracy: 0.8357\n",
      "Epoch 31/100\n",
      "8000/8000 [==============================] - 1s 66us/step - loss: 0.3959 - accuracy: 0.8357\n",
      "Epoch 32/100\n",
      "8000/8000 [==============================] - 1s 66us/step - loss: 0.3957 - accuracy: 0.8347\n",
      "Epoch 33/100\n",
      "8000/8000 [==============================] - 1s 72us/step - loss: 0.3952 - accuracy: 0.8355\n",
      "Epoch 34/100\n",
      "8000/8000 [==============================] - 1s 73us/step - loss: 0.3956 - accuracy: 0.8363\n",
      "Epoch 35/100\n",
      "8000/8000 [==============================] - 1s 66us/step - loss: 0.3953 - accuracy: 0.8363\n",
      "Epoch 36/100\n",
      "8000/8000 [==============================] - 1s 66us/step - loss: 0.3956 - accuracy: 0.8359\n",
      "Epoch 37/100\n",
      "8000/8000 [==============================] - 1s 77us/step - loss: 0.3948 - accuracy: 0.8357\n",
      "Epoch 38/100\n",
      "8000/8000 [==============================] - 1s 69us/step - loss: 0.3954 - accuracy: 0.8364\n",
      "Epoch 39/100\n",
      "8000/8000 [==============================] - 1s 74us/step - loss: 0.3954 - accuracy: 0.8359\n",
      "Epoch 40/100\n",
      "8000/8000 [==============================] - 1s 71us/step - loss: 0.3952 - accuracy: 0.8375\n",
      "Epoch 41/100\n",
      "8000/8000 [==============================] - 1s 71us/step - loss: 0.3948 - accuracy: 0.8365\n",
      "Epoch 42/100\n",
      "8000/8000 [==============================] - 1s 69us/step - loss: 0.3955 - accuracy: 0.8365\n",
      "Epoch 43/100\n",
      "8000/8000 [==============================] - 1s 71us/step - loss: 0.3950 - accuracy: 0.8365\n",
      "Epoch 44/100\n",
      "8000/8000 [==============================] - 1s 73us/step - loss: 0.3950 - accuracy: 0.8366\n",
      "Epoch 45/100\n",
      "8000/8000 [==============================] - 1s 71us/step - loss: 0.3949 - accuracy: 0.8350\n",
      "Epoch 46/100\n",
      "8000/8000 [==============================] - 1s 70us/step - loss: 0.3943 - accuracy: 0.8381\n",
      "Epoch 47/100\n",
      "8000/8000 [==============================] - 1s 72us/step - loss: 0.3948 - accuracy: 0.8363\n",
      "Epoch 48/100\n",
      "8000/8000 [==============================] - 1s 67us/step - loss: 0.3948 - accuracy: 0.8367\n",
      "Epoch 49/100\n",
      "8000/8000 [==============================] - 1s 73us/step - loss: 0.3952 - accuracy: 0.8370\n",
      "Epoch 50/100\n",
      "8000/8000 [==============================] - 1s 74us/step - loss: 0.3946 - accuracy: 0.8376\n",
      "Epoch 51/100\n",
      "8000/8000 [==============================] - 1s 71us/step - loss: 0.3944 - accuracy: 0.8370\n",
      "Epoch 52/100\n",
      "8000/8000 [==============================] - 1s 71us/step - loss: 0.3939 - accuracy: 0.8385\n",
      "Epoch 53/100\n",
      "8000/8000 [==============================] - 1s 69us/step - loss: 0.3944 - accuracy: 0.8379\n",
      "Epoch 54/100\n",
      "8000/8000 [==============================] - 1s 70us/step - loss: 0.3942 - accuracy: 0.8363\n",
      "Epoch 55/100\n",
      "8000/8000 [==============================] - 1s 72us/step - loss: 0.3946 - accuracy: 0.8366\n",
      "Epoch 56/100\n",
      "8000/8000 [==============================] - 1s 72us/step - loss: 0.3939 - accuracy: 0.8378\n",
      "Epoch 57/100\n",
      "8000/8000 [==============================] - 1s 70us/step - loss: 0.3938 - accuracy: 0.8394\n",
      "Epoch 58/100\n",
      "8000/8000 [==============================] - 1s 67us/step - loss: 0.3940 - accuracy: 0.8371\n",
      "Epoch 59/100\n",
      "8000/8000 [==============================] - 1s 69us/step - loss: 0.3940 - accuracy: 0.8369\n",
      "Epoch 60/100\n",
      "8000/8000 [==============================] - 1s 70us/step - loss: 0.3936 - accuracy: 0.8353\n",
      "Epoch 61/100\n",
      "8000/8000 [==============================] - 1s 71us/step - loss: 0.3939 - accuracy: 0.8370\n",
      "Epoch 62/100\n",
      "8000/8000 [==============================] - 1s 68us/step - loss: 0.3939 - accuracy: 0.8400\n",
      "Epoch 63/100\n",
      "8000/8000 [==============================] - 1s 69us/step - loss: 0.3937 - accuracy: 0.8361\n",
      "Epoch 64/100\n",
      "8000/8000 [==============================] - 1s 70us/step - loss: 0.3938 - accuracy: 0.8379\n",
      "Epoch 65/100\n",
      "8000/8000 [==============================] - 1s 69us/step - loss: 0.3931 - accuracy: 0.8389\n",
      "Epoch 66/100\n",
      "8000/8000 [==============================] - 1s 67us/step - loss: 0.3935 - accuracy: 0.8394\n",
      "Epoch 67/100\n",
      "8000/8000 [==============================] - 1s 69us/step - loss: 0.3934 - accuracy: 0.8375 0s - loss: 0.4009 \n",
      "Epoch 68/100\n",
      "8000/8000 [==============================] - 1s 69us/step - loss: 0.3932 - accuracy: 0.8376\n",
      "Epoch 69/100\n",
      "8000/8000 [==============================] - 1s 68us/step - loss: 0.3925 - accuracy: 0.8391\n",
      "Epoch 70/100\n",
      "8000/8000 [==============================] - 1s 68us/step - loss: 0.3926 - accuracy: 0.8382\n",
      "Epoch 71/100\n",
      "8000/8000 [==============================] - 1s 68us/step - loss: 0.3922 - accuracy: 0.8379\n",
      "Epoch 72/100\n",
      "8000/8000 [==============================] - 1s 72us/step - loss: 0.3931 - accuracy: 0.8381\n",
      "Epoch 73/100\n",
      "8000/8000 [==============================] - 1s 69us/step - loss: 0.3925 - accuracy: 0.8391\n",
      "Epoch 74/100\n",
      "8000/8000 [==============================] - 1s 69us/step - loss: 0.3921 - accuracy: 0.8391\n",
      "Epoch 75/100\n",
      "8000/8000 [==============================] - 1s 68us/step - loss: 0.3918 - accuracy: 0.8396\n",
      "Epoch 76/100\n",
      "8000/8000 [==============================] - 1s 73us/step - loss: 0.3911 - accuracy: 0.8394\n",
      "Epoch 77/100\n",
      "8000/8000 [==============================] - 1s 67us/step - loss: 0.3886 - accuracy: 0.8390\n",
      "Epoch 78/100\n",
      "8000/8000 [==============================] - 1s 67us/step - loss: 0.3853 - accuracy: 0.8426\n",
      "Epoch 79/100\n",
      "8000/8000 [==============================] - 1s 67us/step - loss: 0.3797 - accuracy: 0.8420\n",
      "Epoch 80/100\n",
      "8000/8000 [==============================] - 1s 67us/step - loss: 0.3732 - accuracy: 0.8450\n",
      "Epoch 81/100\n",
      "8000/8000 [==============================] - 1s 67us/step - loss: 0.3692 - accuracy: 0.8476 0s - loss: 0.3495 \n",
      "Epoch 82/100\n",
      "8000/8000 [==============================] - 1s 67us/step - loss: 0.3650 - accuracy: 0.8481\n",
      "Epoch 83/100\n",
      "8000/8000 [==============================] - 1s 66us/step - loss: 0.3610 - accuracy: 0.8493\n",
      "Epoch 84/100\n",
      "8000/8000 [==============================] - 1s 68us/step - loss: 0.3567 - accuracy: 0.8529\n",
      "Epoch 85/100\n",
      "8000/8000 [==============================] - 1s 73us/step - loss: 0.3540 - accuracy: 0.8564\n",
      "Epoch 86/100\n",
      "8000/8000 [==============================] - 1s 67us/step - loss: 0.3528 - accuracy: 0.8590\n",
      "Epoch 87/100\n",
      "8000/8000 [==============================] - 1s 66us/step - loss: 0.3518 - accuracy: 0.8580\n",
      "Epoch 88/100\n",
      "8000/8000 [==============================] - 1s 65us/step - loss: 0.3507 - accuracy: 0.8583\n",
      "Epoch 89/100\n",
      "8000/8000 [==============================] - 1s 66us/step - loss: 0.3501 - accuracy: 0.8596\n",
      "Epoch 90/100\n",
      "8000/8000 [==============================] - 1s 66us/step - loss: 0.3498 - accuracy: 0.8609\n",
      "Epoch 91/100\n",
      "8000/8000 [==============================] - 1s 66us/step - loss: 0.3486 - accuracy: 0.8608\n",
      "Epoch 92/100\n",
      "8000/8000 [==============================] - 1s 66us/step - loss: 0.3485 - accuracy: 0.8602\n",
      "Epoch 93/100\n",
      "8000/8000 [==============================] - 1s 67us/step - loss: 0.3480 - accuracy: 0.8606\n",
      "Epoch 94/100\n",
      "8000/8000 [==============================] - 1s 66us/step - loss: 0.3485 - accuracy: 0.8596\n",
      "Epoch 95/100\n",
      "8000/8000 [==============================] - 1s 66us/step - loss: 0.3475 - accuracy: 0.8602 0s - loss: 0.344\n",
      "Epoch 96/100\n",
      "8000/8000 [==============================] - 1s 66us/step - loss: 0.3475 - accuracy: 0.8611\n",
      "Epoch 97/100\n",
      "8000/8000 [==============================] - 1s 71us/step - loss: 0.3476 - accuracy: 0.8589\n",
      "Epoch 98/100\n",
      "8000/8000 [==============================] - 1s 72us/step - loss: 0.3468 - accuracy: 0.8609\n",
      "Epoch 99/100\n",
      "8000/8000 [==============================] - 1s 74us/step - loss: 0.3461 - accuracy: 0.8605\n",
      "Epoch 100/100\n",
      "8000/8000 [==============================] - 1s 74us/step - loss: 0.3459 - accuracy: 0.8612\n"
     ]
    },
    {
     "data": {
      "text/plain": [
       "<keras.callbacks.callbacks.History at 0x29bbec3dbc8>"
      ]
     },
     "execution_count": 93,
     "metadata": {},
     "output_type": "execute_result"
    }
   ],
   "source": [
    "classifier.fit(x_train,y_train,batch_size=10,epochs=100)"
   ]
  },
  {
   "cell_type": "code",
   "execution_count": 94,
   "metadata": {},
   "outputs": [],
   "source": [
    "y_pred=classifier.predict(x_test)"
   ]
  },
  {
   "cell_type": "code",
   "execution_count": 99,
   "metadata": {},
   "outputs": [],
   "source": [
    "y_pred=(y_pred>0.5)"
   ]
  },
  {
   "cell_type": "code",
   "execution_count": 100,
   "metadata": {},
   "outputs": [
    {
     "data": {
      "text/plain": [
       "array([[1527,   68],\n",
       "       [ 204,  201]], dtype=int64)"
      ]
     },
     "execution_count": 100,
     "metadata": {},
     "output_type": "execute_result"
    }
   ],
   "source": [
    "from sklearn.metrics import confusion_matrix\n",
    "cm=confusion_matrix(y_test,y_pred)\n",
    "cm"
   ]
  }
 ],
 "metadata": {
  "kernelspec": {
   "display_name": "Python 3",
   "language": "python",
   "name": "python3"
  },
  "language_info": {
   "codemirror_mode": {
    "name": "ipython",
    "version": 3
   },
   "file_extension": ".py",
   "mimetype": "text/x-python",
   "name": "python",
   "nbconvert_exporter": "python",
   "pygments_lexer": "ipython3",
   "version": "3.7.6"
  },
  "varInspector": {
   "cols": {
    "lenName": 16,
    "lenType": 16,
    "lenVar": 40
   },
   "kernels_config": {
    "python": {
     "delete_cmd_postfix": "",
     "delete_cmd_prefix": "del ",
     "library": "var_list.py",
     "varRefreshCmd": "print(var_dic_list())"
    },
    "r": {
     "delete_cmd_postfix": ") ",
     "delete_cmd_prefix": "rm(",
     "library": "var_list.r",
     "varRefreshCmd": "cat(var_dic_list()) "
    }
   },
   "types_to_exclude": [
    "module",
    "function",
    "builtin_function_or_method",
    "instance",
    "_Feature"
   ],
   "window_display": false
  }
 },
 "nbformat": 4,
 "nbformat_minor": 4
}
